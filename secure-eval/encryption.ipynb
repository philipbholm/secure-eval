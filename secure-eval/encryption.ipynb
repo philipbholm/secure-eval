{
 "cells": [
  {
   "cell_type": "code",
   "execution_count": null,
   "metadata": {},
   "outputs": [],
   "source": [
    "import onnxruntime as rt\n",
    "import numpy as np\n",
    "from cryptography import x509\n",
    "from cryptography.x509.oid import NameOID\n",
    "from cryptography.hazmat.primitives import hashes\n",
    "from cryptography.hazmat.primitives.asymmetric import rsa, padding\n",
    "from cryptography.hazmat.primitives.ciphers.aead import AESGCM\n",
    "import datetime\n",
    "import os"
   ]
  },
  {
   "cell_type": "code",
   "execution_count": null,
   "metadata": {},
   "outputs": [],
   "source": [
    "# Predition on original data\n",
    "session = rt.InferenceSession(\"benchmarks/data/ECG/ecg_classifier.onnx\")\n",
    "input_name = session.get_inputs()[0].name\n",
    "original_data = np.random.randn(1, 1000, 12).astype(np.float32)\n",
    "original_output = session.run(None, {input_name: original_data})"
   ]
  },
  {
   "cell_type": "code",
   "execution_count": null,
   "metadata": {},
   "outputs": [],
   "source": [
    "# Enclave setup\n",
    "private_key = rsa.generate_private_key(public_exponent=65537, key_size=2048)\n",
    "public_key = private_key.public_key()\n",
    "subject = issuer = x509.Name([\n",
    "    x509.NameAttribute(NameOID.COMMON_NAME, \"enclave\")\n",
    "])\n",
    "certificate = (\n",
    "    x509.CertificateBuilder()\n",
    "    .subject_name(subject)\n",
    "    .issuer_name(issuer)\n",
    "    .public_key(public_key)\n",
    "    .serial_number(x509.random_serial_number())\n",
    "    .not_valid_before(datetime.datetime.utcnow())\n",
    "    .not_valid_after(datetime.datetime.utcnow() + datetime.timedelta(days=10))\n",
    "    .sign(private_key, hashes.SHA256())\n",
    ")"
   ]
  },
  {
   "cell_type": "code",
   "execution_count": null,
   "metadata": {},
   "outputs": [],
   "source": [
    "# Local encryption\n",
    "data_key = AESGCM.generate_key(bit_length=256)\n",
    "nonce = os.urandom(12)\n",
    "# Use public key from attestation doc instead\n",
    "data_key_enc = public_key.encrypt(\n",
    "    data_key,\n",
    "    padding.OAEP(\n",
    "        mgf=padding.MGF1(algorithm=hashes.SHA256()),\n",
    "        algorithm=hashes.SHA256(),\n",
    "        label=None\n",
    "    )\n",
    ")\n",
    "aesgcm = AESGCM(data_key)\n",
    "encrypted_data = aesgcm.encrypt(nonce, original_data.tobytes(), None)\n",
    "with open(\"encrypted_data.bin\", \"wb\") as f:\n",
    "    # Write length first for easy reading\n",
    "    f.write(len(data_key_enc).to_bytes(4, \"big\"))\n",
    "    f.write(data_key_enc)\n",
    "    f.write(nonce)\n",
    "    f.write(encrypted_data)"
   ]
  },
  {
   "cell_type": "code",
   "execution_count": null,
   "metadata": {},
   "outputs": [],
   "source": [
    "# Decrypt and run inference\n",
    "with open(\"encrypted_data.bin\", \"rb\") as f:\n",
    "    key_length = int.from_bytes(f.read(4), \"big\")\n",
    "    data_key_enc = f.read(key_length)\n",
    "    nonce = f.read(12)\n",
    "    encrypted_data = f.read()\n",
    "\n",
    "data_key = private_key.decrypt(\n",
    "    data_key_enc,\n",
    "    padding.OAEP(\n",
    "        mgf=padding.MGF1(algorithm=hashes.SHA256()),\n",
    "        algorithm=hashes.SHA256(),\n",
    "        label=None\n",
    "    )\n",
    ")\n",
    "\n",
    "aesgcm = AESGCM(data_key)\n",
    "data = aesgcm.decrypt(nonce, encrypted_data, None)\n",
    "input_data = np.frombuffer(data, dtype=np.float32).reshape(1, 1000, 12)\n",
    "output = session.run(None, {input_name: input_data})\n",
    "\n",
    "print(\"Data integrity check:\", np.allclose(input_data, original_data))"
   ]
  }
 ],
 "metadata": {
  "kernelspec": {
   "display_name": ".venv",
   "language": "python",
   "name": "python3"
  },
  "language_info": {
   "codemirror_mode": {
    "name": "ipython",
    "version": 3
   },
   "file_extension": ".py",
   "mimetype": "text/x-python",
   "name": "python",
   "nbconvert_exporter": "python",
   "pygments_lexer": "ipython3",
   "version": "3.11.9"
  }
 },
 "nbformat": 4,
 "nbformat_minor": 2
}
