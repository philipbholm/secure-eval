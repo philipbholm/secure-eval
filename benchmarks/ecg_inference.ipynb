{
 "cells": [
  {
   "cell_type": "code",
   "execution_count": null,
   "metadata": {},
   "outputs": [],
   "source": [
    "import numpy as np\n",
    "import onnx\n",
    "import onnxruntime as rt\n",
    "import scipy as sp\n",
    "import wfdb"
   ]
  },
  {
   "cell_type": "code",
   "execution_count": null,
   "metadata": {},
   "outputs": [],
   "source": [
    "DIAGNOSES_LIST = [\"1AVB\", \"2AVB\", \"3AVB\", \"ABQRS\", \"AFIB\", \"AFLT\", \"ALMI\", \"AMI\", \"ANEUR\", \"ASMI\", \"BIGU\", \"CLBBB\", \"CRBBB\", \"DIG\", \"EL\", \"HVOLT\", \"ILBBB\", \"ILMI\", \"IMI\", \"INJAL\", \"INJAS\", \"INJIL\", \"INJIN\", \"INJLA\", \"INVT\", \"IPLMI\", \"IPMI\", \"IRBBB\", \"ISCAL\", \"ISCAN\", \"ISCAS\", \"ISCIL\", \"ISCIN\", \"ISCLA\", \"ISC_\", \"IVCD\", \"LAFB\", \"LAO/LAE\", \"LMI\", \"LNGQT\", \"LOWT\", \"LPFB\", \"LPR\", \"LVH\", \"LVOLT\", \"NDT\", \"NORM\", \"NST_\", \"NT_\", \"PAC\", \"PACE\", \"PMI\", \"PRC(S)\", \"PSVT\", \"PVC\", \"QWAVE\", \"RAO/RAE\", \"RVH\", \"SARRH\", \"SBRAD\", \"SEHYP\", \"SR\", \"STACH\", \"STD_\", \"STE_\", \"SVARR\", \"SVTAC\", \"TAB_\", \"TRIGU\", \"VCLVH\", \"WPW\"]\n",
    "\n",
    "# Load and preprocess data\n",
    "ecg = wfdb.rdsamp(\"data/ECG/ath_001\")\n",
    "ecg_resampled = sp.signal.resample(ecg[0], 1000, axis=0)\n",
    "X_test = np.expand_dims(ecg_resampled, axis=0).astype(np.float32)\n",
    "X_test.shape, X_test[0:1]"
   ]
  },
  {
   "cell_type": "markdown",
   "metadata": {},
   "source": [
    "## Plaintext ONNX"
   ]
  },
  {
   "cell_type": "code",
   "execution_count": null,
   "metadata": {},
   "outputs": [],
   "source": [
    "session = rt.InferenceSession(\"data/ECG/ecg_classifier_base.onnx\")\n",
    "pred_plaintext = session.run([\"dense\"], {\"input\": X_test})[0]\n",
    "pred_plaintext"
   ]
  },
  {
   "cell_type": "code",
   "execution_count": null,
   "metadata": {},
   "outputs": [],
   "source": [
    "session = rt.InferenceSession(\"data/ECG/ecg_classifier.onnx\")\n",
    "\n",
    "model = onnx.load(\"data/ECG/ecg_classifier.onnx\")\n",
    "onnx.checker.check_model(model)\n",
    "\n",
    "pred_plaintext_updated = session.run([\"dense\"], {\"input\": X_test})[0]\n",
    "\n",
    "print(f\"Largest difference: {np.max(np.abs(pred_plaintext - pred_plaintext_updated)):.9f}\")"
   ]
  },
  {
   "cell_type": "markdown",
   "metadata": {},
   "source": [
    "## Concrete ML"
   ]
  },
  {
   "cell_type": "code",
   "execution_count": null,
   "metadata": {},
   "outputs": [],
   "source": [
    "from concrete.ml.torch.compile import compile_onnx_model\n",
    "\n",
    "model = onnx.load(\"data/ECG/ecg_classifier.onnx\")\n",
    "\n",
    "input_set = np.random.uniform(-1, 1, size=(1, 1000, 12))\n",
    "\n",
    "fhe_model = compile_onnx_model(\n",
    "    model, \n",
    "    input_set,\n",
    "    n_bits=8,\n",
    "    rounding_threshold_bits={\"n_bits\": 8, \"method\": \"approximate\"}\n",
    ")"
   ]
  },
  {
   "cell_type": "markdown",
   "metadata": {},
   "source": [
    "# Benchmarks\n",
    "Comparing inference times for a single ECG"
   ]
  },
  {
   "cell_type": "markdown",
   "metadata": {},
   "source": [
    "## Plaintext"
   ]
  },
  {
   "cell_type": "code",
   "execution_count": null,
   "metadata": {},
   "outputs": [],
   "source": [
    "%%timeit\n",
    "session = rt.InferenceSession(\"data/ECG/ecg_classifier.onnx\")\n",
    "pred = session.run([\"dense\"], {\"input\": X_test})[0]"
   ]
  }
 ],
 "metadata": {
  "kernelspec": {
   "display_name": ".venv",
   "language": "python",
   "name": "python3"
  },
  "language_info": {
   "codemirror_mode": {
    "name": "ipython",
    "version": 3
   },
   "file_extension": ".py",
   "mimetype": "text/x-python",
   "name": "python",
   "nbconvert_exporter": "python",
   "pygments_lexer": "ipython3",
   "version": "3.11.9"
  }
 },
 "nbformat": 4,
 "nbformat_minor": 2
}
