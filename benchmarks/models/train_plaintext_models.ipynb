{
 "cells": [
  {
   "cell_type": "code",
   "execution_count": null,
   "metadata": {},
   "outputs": [],
   "source": [
    "import numpy as np\n",
    "import onnxruntime as rt\n",
    "import torch\n",
    "import torch.nn as nn\n",
    "import wfdb\n",
    "import scipy as sp"
   ]
  },
  {
   "cell_type": "code",
   "execution_count": null,
   "metadata": {},
   "outputs": [],
   "source": [
    "# Load data\n",
    "ecg = wfdb.rdsamp(\"../data/ECG/ath_001\")\n",
    "ecg_resampled = sp.signal.resample(ecg[0], 1000, axis=0)\n",
    "x = np.expand_dims(np.transpose(ecg_resampled), axis=0).astype(np.float32)"
   ]
  },
  {
   "cell_type": "markdown",
   "metadata": {},
   "source": [
    "# Plaintext models"
   ]
  },
  {
   "cell_type": "code",
   "execution_count": null,
   "metadata": {},
   "outputs": [],
   "source": [
    "# 3.1M params\n",
    "class MLP(nn.Module):\n",
    "    def __init__(self):\n",
    "        super(MLP, self).__init__()\n",
    "        self.flatten = nn.Flatten()\n",
    "        self.fc1 = nn.Linear(12000, 256)\n",
    "        self.fc2 = nn.Linear(256, 128)\n",
    "        self.fc3 = nn.Linear(128, 71)\n",
    "    \n",
    "    def forward(self, x):\n",
    "        x = self.flatten(x)\n",
    "        x = self.fc1(x)\n",
    "        x = x * x\n",
    "        x = self.fc2(x)\n",
    "        x = x * x\n",
    "        x = self.fc3(x)\n",
    "        return x"
   ]
  },
  {
   "cell_type": "code",
   "execution_count": null,
   "metadata": {},
   "outputs": [],
   "source": [
    "# 4.6M params\n",
    "class ConvNet(nn.Module):\n",
    "    def __init__(self, hidden=128, output=71):\n",
    "        super(ConvNet, self).__init__()\n",
    "        # Input: (n, 12, 1000)\n",
    "        self.conv1 = nn.Conv1d(12, 36, kernel_size=1, bias=False)\n",
    "        \n",
    "        # Calculate the output length from formula\n",
    "        # After conv1: (n, 36, 1000)\n",
    "        self.fc1 = nn.Linear(int(36*1000), hidden)\n",
    "        self.fc2 = nn.Linear(hidden, output)\n",
    "\n",
    "    def forward(self, x):\n",
    "        x = self.conv1(x)  \n",
    "        x = x * x\n",
    "        x = x.view(x.size(0), -1)\n",
    "        x = self.fc1(x)\n",
    "        x = x * x\n",
    "        x = self.fc2(x)\n",
    "        return x"
   ]
  },
  {
   "cell_type": "markdown",
   "metadata": {},
   "source": [
    "## Export models"
   ]
  },
  {
   "cell_type": "code",
   "execution_count": null,
   "metadata": {},
   "outputs": [],
   "source": [
    "torch.manual_seed(0)\n",
    "dummy_input = torch.randn(1, 12, 1000)\n",
    "\n",
    "mlp = MLP()\n",
    "torch.save(mlp, \"mlp.pt\")\n",
    "torch.onnx.export(\n",
    "    mlp,\n",
    "    dummy_input,\n",
    "    \"mlp.onnx\",\n",
    "    export_params=True,\n",
    "    input_names=[\"input\"],\n",
    "    output_names=[\"output\"],\n",
    "    opset_version=14,\n",
    "    dynamic_axes={\n",
    "        \"input\": {0: \"batch_size\"},\n",
    "        \"output\": {0: \"batch_size\"},\n",
    "    },\n",
    "    keep_initializers_as_inputs=False,\n",
    ")\n",
    "\n",
    "\n",
    "convnet = ConvNet()\n",
    "torch.save(convnet, \"convnet.pt\")\n",
    "torch.onnx.export(\n",
    "    convnet,\n",
    "    dummy_input,\n",
    "    \"convnet.onnx\",\n",
    "    export_params=True,\n",
    "    input_names=[\"input\"],\n",
    "    output_names=[\"output\"],\n",
    "    opset_version=14,\n",
    "    dynamic_axes={\n",
    "        \"input\": {0: \"batch_size\"},\n",
    "        \"output\": {0: \"batch_size\"},\n",
    "    },\n",
    "    keep_initializers_as_inputs=False,\n",
    ")"
   ]
  },
  {
   "cell_type": "markdown",
   "metadata": {},
   "source": [
    "## ONNX plaintext inference"
   ]
  },
  {
   "cell_type": "code",
   "execution_count": null,
   "metadata": {},
   "outputs": [],
   "source": [
    "mlp_session = rt.InferenceSession(\"mlp.onnx\")\n",
    "out_mlp_pt = mlp_session.run([\"output\"], {\"input\": x})\n",
    "out_mlp_pt"
   ]
  }
 ],
 "metadata": {
  "kernelspec": {
   "display_name": ".venv",
   "language": "python",
   "name": "python3"
  },
  "language_info": {
   "codemirror_mode": {
    "name": "ipython",
    "version": 3
   },
   "file_extension": ".py",
   "mimetype": "text/x-python",
   "name": "python",
   "nbconvert_exporter": "python",
   "pygments_lexer": "ipython3",
   "version": "3.11.9"
  }
 },
 "nbformat": 4,
 "nbformat_minor": 2
}
